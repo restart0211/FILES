{
  "nbformat": 4,
  "nbformat_minor": 0,
  "metadata": {
    "colab": {
      "provenance": []
    },
    "kernelspec": {
      "name": "python3",
      "display_name": "Python 3"
    },
    "language_info": {
      "name": "python"
    }
  },
  "cells": [
    {
      "cell_type": "code",
      "execution_count": null,
      "metadata": {
        "id": "1sjL0-xKiB_C"
      },
      "outputs": [],
      "source": []
    },
    {
      "cell_type": "markdown",
      "source": [
        "PRACTICAL QUESTIONS"
      ],
      "metadata": {
        "id": "1xjFfWJciGFM"
      }
    },
    {
      "cell_type": "markdown",
      "source": [
        "ANSWER 1)"
      ],
      "metadata": {
        "id": "4Mx9f2yriLK6"
      }
    },
    {
      "cell_type": "code",
      "source": [
        "To open a file for writing in Python and write a string to it, use the open() function with 'w' mode, and then call the write() method."
      ],
      "metadata": {
        "id": "kzN650GDiMia"
      },
      "execution_count": null,
      "outputs": []
    },
    {
      "cell_type": "code",
      "source": [
        "with open('output.txt', 'w') as file:\n",
        "    file.write(\"Hello, this is a string written to the file.\")"
      ],
      "metadata": {
        "id": "KJYOMgWLi3WS"
      },
      "execution_count": null,
      "outputs": []
    },
    {
      "cell_type": "markdown",
      "source": [
        "ANSWER 2)\n"
      ],
      "metadata": {
        "id": "-DUGON7ajAZc"
      }
    },
    {
      "cell_type": "code",
      "source": [
        "filename = 'filename.txt'\n",
        "\n",
        "try:\n",
        "    with open(filename, 'r') as file:\n",
        "        for line in file:\n",
        "            print(line.strip())  # .strip() removes the newline character\n",
        "except FileNotFoundError:\n",
        "    print(f\"The file '{filename}' does not exist.\")"
      ],
      "metadata": {
        "colab": {
          "base_uri": "https://localhost:8080/"
        },
        "id": "6M8uSfa7jJpr",
        "outputId": "5445722a-ce9f-407e-bf87-ceb223b47b58"
      },
      "execution_count": null,
      "outputs": [
        {
          "output_type": "stream",
          "name": "stdout",
          "text": [
            "The file 'filename.txt' does not exist.\n"
          ]
        }
      ]
    },
    {
      "cell_type": "markdown",
      "source": [
        "ANSWER 3)"
      ],
      "metadata": {
        "id": "3lXOJ-qZjLGk"
      }
    },
    {
      "cell_type": "code",
      "source": [
        "filename = 'nonexistent_file.txt'\n",
        "\n",
        "try:\n",
        "    with open(filename, 'r') as file:\n",
        "        contents = file.read()\n",
        "        print(contents)\n",
        "except FileNotFoundError:\n",
        "    print(f\"Error: The file '{filename}' does not exist.\")"
      ],
      "metadata": {
        "colab": {
          "base_uri": "https://localhost:8080/"
        },
        "id": "ErDw9z_2jNWu",
        "outputId": "4e1e37f0-9e55-4fac-b0fc-bdbf8cd891de"
      },
      "execution_count": null,
      "outputs": [
        {
          "output_type": "stream",
          "name": "stdout",
          "text": [
            "Error: The file 'nonexistent_file.txt' does not exist.\n"
          ]
        }
      ]
    },
    {
      "cell_type": "markdown",
      "source": [
        "ANSWER 4)"
      ],
      "metadata": {
        "id": "SxJdVqbpjWaT"
      }
    },
    {
      "cell_type": "code",
      "source": [
        "source_file = 'source.txt'\n",
        "destination_file = 'destination.txt'\n",
        "\n",
        "try:\n",
        "    with open(source_file, 'r') as src, open(destination_file, 'w') as dst:\n",
        "        for line in src:\n",
        "            dst.write(line)\n",
        "    print(f\"Contents copied from '{source_file}' to '{destination_file}' successfully.\")\n",
        "except FileNotFoundError:\n",
        "    print(f\"Error: The file '{source_file}' does not exist.\")"
      ],
      "metadata": {
        "colab": {
          "base_uri": "https://localhost:8080/"
        },
        "id": "3RyYxDdejX2c",
        "outputId": "a490b0d4-eefe-46d0-a1e3-ccb327ccf406"
      },
      "execution_count": null,
      "outputs": [
        {
          "output_type": "stream",
          "name": "stdout",
          "text": [
            "Error: The file 'source.txt' does not exist.\n"
          ]
        }
      ]
    },
    {
      "cell_type": "markdown",
      "source": [
        "ANSWER 6)"
      ],
      "metadata": {
        "id": "YajC_7LLjlCD"
      }
    },
    {
      "cell_type": "code",
      "source": [
        "import logging\n",
        "\n",
        "\n",
        "logging.basicConfig(\n",
        "    filename='error_log.txt',\n",
        "    level=logging.ERROR,\n",
        "    format='%(asctime)s - %(levelname)s - %(message)s'\n",
        ")\n",
        "\n",
        "def divide(a, b):\n",
        "    try:\n",
        "        return a / b\n",
        "    except ZeroDivisionError as e:\n",
        "        logging.error(\"Division by zero attempted: %s\", e)\n",
        "        print(\"An error occurred. Check the log file for details.\")\n",
        "\n",
        "\n",
        "num1 = 10\n",
        "num2 = 0\n",
        "result = divide(num1, num2)"
      ],
      "metadata": {
        "colab": {
          "base_uri": "https://localhost:8080/"
        },
        "id": "aioks4OrjmO0",
        "outputId": "c71502e7-782b-4d39-cab4-5c0d15262794"
      },
      "execution_count": null,
      "outputs": [
        {
          "output_type": "stream",
          "name": "stderr",
          "text": [
            "ERROR:root:Division by zero attempted: division by zero\n"
          ]
        },
        {
          "output_type": "stream",
          "name": "stdout",
          "text": [
            "An error occurred. Check the log file for details.\n"
          ]
        }
      ]
    },
    {
      "cell_type": "markdown",
      "source": [
        "ANSWER 5)"
      ],
      "metadata": {
        "id": "I0hcbTu3kBmj"
      }
    },
    {
      "cell_type": "code",
      "source": [
        "try:\n",
        "    numerator = 10\n",
        "    denominator = 0\n",
        "    result = numerator / denominator\n",
        "    print(\"Result:\", result)\n",
        "except ZeroDivisionError:\n",
        "    print(\"Error: Division by zero is not allowed.\")"
      ],
      "metadata": {
        "colab": {
          "base_uri": "https://localhost:8080/"
        },
        "id": "0i787TOSkDr0",
        "outputId": "5e15ed9f-5de5-4c34-d7a5-3db0a23cc63c"
      },
      "execution_count": null,
      "outputs": [
        {
          "output_type": "stream",
          "name": "stdout",
          "text": [
            "Error: Division by zero is not allowed.\n"
          ]
        }
      ]
    },
    {
      "cell_type": "markdown",
      "source": [
        "ANSWER 7)"
      ],
      "metadata": {
        "id": "bt8nCMz9kJzj"
      }
    },
    {
      "cell_type": "code",
      "source": [
        "import logging\n",
        "\n",
        "# Configure logging\n",
        "logging.basicConfig(\n",
        "    filename='app.log',\n",
        "    level=logging.DEBUG,  # Set the lowest level to capture all levels\n",
        "    format='%(asctime)s - %(levelname)s - %(message)s'\n",
        ")\n",
        "\n",
        "# Log messages at different levels\n",
        "logging.debug(\"This is a DEBUG message\")\n",
        "logging.info(\"This is an INFO message\")\n",
        "logging.warning(\"This is a WARNING message\")\n",
        "logging.error(\"This is an ERROR message\")\n",
        "logging.critical(\"This is a CRITICAL message\")"
      ],
      "metadata": {
        "colab": {
          "base_uri": "https://localhost:8080/"
        },
        "id": "MuSzly_kkMZL",
        "outputId": "77035a89-3e98-428a-87e2-3f9fd6d333ca"
      },
      "execution_count": null,
      "outputs": [
        {
          "output_type": "stream",
          "name": "stderr",
          "text": [
            "WARNING:root:This is a WARNING message\n",
            "ERROR:root:This is an ERROR message\n",
            "CRITICAL:root:This is a CRITICAL message\n"
          ]
        }
      ]
    },
    {
      "cell_type": "markdown",
      "source": [
        "ANSWER 8)"
      ],
      "metadata": {
        "id": "aknjRHI5kTBr"
      }
    },
    {
      "cell_type": "code",
      "source": [
        "def read_file(filename):\n",
        "    try:\n",
        "        with open(filename, 'r') as file:\n",
        "            content = file.read()\n",
        "            print(\"File content:\")\n",
        "            print(content)\n",
        "    except FileNotFoundError as e:\n",
        "        print(f\"Error: The file '{filename}' was not found.\")\n",
        "    except IOError as e:\n",
        "        print(f\"Error: An I/O error occurred: {e}\")\n",
        "\n",
        "file_name = \"nonexistent_file.txt\"\n",
        "read_file(file_name)"
      ],
      "metadata": {
        "colab": {
          "base_uri": "https://localhost:8080/"
        },
        "id": "lxm_eN1skVBD",
        "outputId": "68d39fd3-db0e-47aa-918f-3183da1db456"
      },
      "execution_count": null,
      "outputs": [
        {
          "output_type": "stream",
          "name": "stdout",
          "text": [
            "Error: The file 'nonexistent_file.txt' was not found.\n"
          ]
        }
      ]
    },
    {
      "cell_type": "markdown",
      "source": [
        "ANSWER 9)"
      ],
      "metadata": {
        "id": "zySDiBnakhuU"
      }
    },
    {
      "cell_type": "code",
      "source": [
        "def read_lines_to_list(filename):\n",
        "    try:\n",
        "        with open(filename, 'r') as file:\n",
        "            lines = file.readlines()\n",
        "\n",
        "            lines = [line.strip() for line in lines]\n",
        "            return lines\n",
        "    except FileNotFoundError:\n",
        "        print(f\"Error: File '{filename}' not found.\")\n",
        "        return []\n",
        "    except IOError as e:\n",
        "        print(f\"I/O error: {e}\")\n",
        "        return []\n",
        "\n",
        "\n",
        "file_path = 'sample.txt'\n",
        "lines_list = read_lines_to_list(file_path)\n",
        "print(lines_list)"
      ],
      "metadata": {
        "colab": {
          "base_uri": "https://localhost:8080/"
        },
        "id": "qAb2sBDfkjgk",
        "outputId": "43ddd155-ef07-4474-93c5-1bae310f8947"
      },
      "execution_count": null,
      "outputs": [
        {
          "output_type": "stream",
          "name": "stdout",
          "text": [
            "Error: File 'sample.txt' not found.\n",
            "[]\n"
          ]
        }
      ]
    },
    {
      "cell_type": "markdown",
      "source": [
        "ANSWER 10)"
      ],
      "metadata": {
        "id": "EYICeHzylAhM"
      }
    },
    {
      "cell_type": "code",
      "source": [
        "def append_to_file(filename, data):\n",
        "    try:\n",
        "        with open(filename, 'a') as file:\n",
        "            file.write(data + \"\\n\")\n",
        "        print(\"Data successfully appended.\")\n",
        "    except IOError as e:\n",
        "        print(f\"Error: {e}\")\n",
        "\n",
        "\n",
        "file_path = 'sample.txt'\n",
        "data_to_append = \"This is a new line of data.\"\n",
        "append_to_file(file_path, data_to_append)"
      ],
      "metadata": {
        "colab": {
          "base_uri": "https://localhost:8080/"
        },
        "id": "mWkymp1blB10",
        "outputId": "02fa7bbc-0ee7-4487-adef-c6e3c2914956"
      },
      "execution_count": null,
      "outputs": [
        {
          "output_type": "stream",
          "name": "stdout",
          "text": [
            "Data successfully appended.\n"
          ]
        }
      ]
    },
    {
      "cell_type": "markdown",
      "source": [
        "ANSWER 11)"
      ],
      "metadata": {
        "id": "JUc_dLXllKiL"
      }
    },
    {
      "cell_type": "code",
      "source": [
        "def access_dict_key(dictionary, key):\n",
        "    try:\n",
        "        value = dictionary[key]\n",
        "        print(f\"The value for '{key}' is: {value}\")\n",
        "    except KeyError:\n",
        "        print(f\"Error: The key '{key}' does not exist in the dictionary.\")\n",
        "\n",
        "\n",
        "my_dict = {\"name\": \"Alice\", \"age\": 30, \"city\": \"New York\"}\n",
        "key_to_access = \"address\"\n",
        "access_dict_key(my_dict, key_to_access)"
      ],
      "metadata": {
        "colab": {
          "base_uri": "https://localhost:8080/"
        },
        "id": "M1Tqacb4lLt9",
        "outputId": "bf6323c3-2032-4abb-a502-c6300bf156f2"
      },
      "execution_count": null,
      "outputs": [
        {
          "output_type": "stream",
          "name": "stdout",
          "text": [
            "Error: The key 'address' does not exist in the dictionary.\n"
          ]
        }
      ]
    },
    {
      "cell_type": "markdown",
      "source": [
        "ANSWE 12)"
      ],
      "metadata": {
        "id": "-O4AZ_Y6ldjT"
      }
    },
    {
      "cell_type": "code",
      "source": [
        "def handle_exceptions():\n",
        "    try:\n",
        "\n",
        "        num = int(input(\"Enter a number: \"))\n",
        "        divisor = int(input(\"Enter a divisor: \"))\n",
        "\n",
        "\n",
        "        result = num / divisor\n",
        "        print(f\"Result: {result}\")\n",
        "\n",
        "    except ValueError:\n",
        "        print(\"Error: Invalid input. Please enter a valid number.\")\n",
        "    except ZeroDivisionError:\n",
        "        print(\"Error: Division by zero is not allowed.\")\n",
        "    except Exception as e:\n",
        "        print(f\"An unexpected error occurred: {e}\")\n",
        "\n",
        "\n",
        "handle_exceptions()"
      ],
      "metadata": {
        "colab": {
          "base_uri": "https://localhost:8080/"
        },
        "id": "_YoILFISlfRL",
        "outputId": "d9c052dc-d48f-4916-99c3-d78c3fae357a"
      },
      "execution_count": null,
      "outputs": [
        {
          "output_type": "stream",
          "name": "stdout",
          "text": [
            "Enter a number: 12\n",
            "Enter a divisor: 2\n",
            "Result: 6.0\n"
          ]
        }
      ]
    },
    {
      "cell_type": "markdown",
      "source": [
        "ANSWER 14)"
      ],
      "metadata": {
        "id": "DAIwa_uhlpnr"
      }
    },
    {
      "cell_type": "code",
      "source": [
        "import logging\n",
        "\n",
        "# Configure the logging module\n",
        "logging.basicConfig(\n",
        "    filename='app_log.txt',  # Log file to write to\n",
        "    level=logging.DEBUG,     # Capture all messages with level DEBUG or higher\n",
        "    format='%(asctime)s - %(levelname)s - %(message)s'  # Log format\n",
        ")\n",
        "\n",
        "# Function to log informational and error messages\n",
        "def log_messages():\n",
        "    logging.debug(\"This is a debug message.\")\n",
        "    logging.info(\"This is an info message.\")\n",
        "    logging.warning(\"This is a warning message.\")\n",
        "    logging.error(\"This is an error message.\")\n",
        "    logging.critical(\"This is a critical error message.\")\n",
        "\n",
        "\n",
        "log_messages()\n",
        "\n",
        "\n",
        "try:\n",
        "    x = 5 / 0\n",
        "except ZeroDivisionError as e:\n",
        "    logging.error(f\"An error occurred: {e}\")"
      ],
      "metadata": {
        "colab": {
          "base_uri": "https://localhost:8080/"
        },
        "id": "wT38CuualrGN",
        "outputId": "fdc18b0e-fdb5-4459-d87c-a3d7509396ea"
      },
      "execution_count": null,
      "outputs": [
        {
          "output_type": "stream",
          "name": "stderr",
          "text": [
            "WARNING:root:This is a warning message.\n",
            "ERROR:root:This is an error message.\n",
            "CRITICAL:root:This is a critical error message.\n",
            "ERROR:root:An error occurred: division by zero\n"
          ]
        }
      ]
    },
    {
      "cell_type": "markdown",
      "source": [
        "ANSWER 13)"
      ],
      "metadata": {
        "id": "gXa2cBIRl2Sl"
      }
    },
    {
      "cell_type": "code",
      "source": [
        "import os\n",
        "\n",
        "def read_file_if_exists(filename):\n",
        "    if os.path.exists(filename):\n",
        "        with open(filename, 'r') as file:\n",
        "            content = file.read()\n",
        "            print(\"File content:\")\n",
        "            print(content)\n",
        "    else:\n",
        "        print(f\"Error: The file '{filename}' does not exist.\")\n",
        "\n",
        "file_name = \"sample.txt\"\n",
        "read_file_if_exists(file_name)"
      ],
      "metadata": {
        "colab": {
          "base_uri": "https://localhost:8080/"
        },
        "id": "0xfjL1PGmQ4p",
        "outputId": "3e98356a-2e10-404a-85bf-47c73a7cc91f"
      },
      "execution_count": null,
      "outputs": [
        {
          "output_type": "stream",
          "name": "stdout",
          "text": [
            "File content:\n",
            "This is a new line of data.\n",
            "\n"
          ]
        }
      ]
    },
    {
      "cell_type": "markdown",
      "source": [
        "ANSWER 15)"
      ],
      "metadata": {
        "id": "x26ShwZqmVQ5"
      }
    },
    {
      "cell_type": "code",
      "source": [
        "def print_file_content(filename):\n",
        "    try:\n",
        "        with open(filename, 'r') as file:\n",
        "            content = file.read().strip()\n",
        "            if content:\n",
        "                print(\"File content:\")\n",
        "                print(content)\n",
        "            else:\n",
        "                print(\"The file is empty.\")\n",
        "    except FileNotFoundError:\n",
        "        print(f\"Error: The file '{filename}' was not found.\")\n",
        "    except IOError as e:\n",
        "        print(f\"Error: An I/O error occurred: {e}\")\n",
        "\n",
        "file_name = 'sample.txt'\n",
        "print_file_content(file_name)"
      ],
      "metadata": {
        "colab": {
          "base_uri": "https://localhost:8080/"
        },
        "id": "3dTWWqR8mdna",
        "outputId": "b64b0f3c-bde4-49fd-cac6-3c10c9fa3bb6"
      },
      "execution_count": null,
      "outputs": [
        {
          "output_type": "stream",
          "name": "stdout",
          "text": [
            "File content:\n",
            "This is a new line of data.\n"
          ]
        }
      ]
    },
    {
      "cell_type": "markdown",
      "source": [
        "ANSWER 16)"
      ],
      "metadata": {
        "id": "KPkgAlWRmlyR"
      }
    },
    {
      "cell_type": "code",
      "source": [
        "from memory_profiler import profile\n",
        "\n",
        "\n",
        "@profile\n",
        "def my_function():\n",
        "    a = [i for i in range(100000)]\n",
        "    b = [i * 2 for i in range(100000)]\n",
        "    del b\n",
        "    return sum(a)\n",
        "\n",
        "if __name__ == \"__main__\":\n",
        "    my_function()"
      ],
      "metadata": {
        "colab": {
          "base_uri": "https://localhost:8080/",
          "height": 394
        },
        "id": "uola1cOMmnTL",
        "outputId": "05718a73-3f80-4543-a58f-f9833c52b37e",
        "collapsed": true
      },
      "execution_count": null,
      "outputs": [
        {
          "output_type": "error",
          "ename": "ModuleNotFoundError",
          "evalue": "No module named 'memory_profiler'",
          "traceback": [
            "\u001b[0;31m---------------------------------------------------------------------------\u001b[0m",
            "\u001b[0;31mModuleNotFoundError\u001b[0m                       Traceback (most recent call last)",
            "\u001b[0;32m<ipython-input-21-bbb5fd78d70f>\u001b[0m in \u001b[0;36m<cell line: 0>\u001b[0;34m()\u001b[0m\n\u001b[0;32m----> 1\u001b[0;31m \u001b[0;32mfrom\u001b[0m \u001b[0mmemory_profiler\u001b[0m \u001b[0;32mimport\u001b[0m \u001b[0mprofile\u001b[0m\u001b[0;34m\u001b[0m\u001b[0;34m\u001b[0m\u001b[0m\n\u001b[0m\u001b[1;32m      2\u001b[0m \u001b[0;34m\u001b[0m\u001b[0m\n\u001b[1;32m      3\u001b[0m \u001b[0;34m\u001b[0m\u001b[0m\n\u001b[1;32m      4\u001b[0m \u001b[0;34m@\u001b[0m\u001b[0mprofile\u001b[0m\u001b[0;34m\u001b[0m\u001b[0;34m\u001b[0m\u001b[0m\n\u001b[1;32m      5\u001b[0m \u001b[0;32mdef\u001b[0m \u001b[0mmy_function\u001b[0m\u001b[0;34m(\u001b[0m\u001b[0;34m)\u001b[0m\u001b[0;34m:\u001b[0m\u001b[0;34m\u001b[0m\u001b[0;34m\u001b[0m\u001b[0m\n",
            "\u001b[0;31mModuleNotFoundError\u001b[0m: No module named 'memory_profiler'",
            "",
            "\u001b[0;31m---------------------------------------------------------------------------\u001b[0;32m\nNOTE: If your import is failing due to a missing package, you can\nmanually install dependencies using either !pip or !apt.\n\nTo view examples of installing some common dependencies, click the\n\"Open Examples\" button below.\n\u001b[0;31m---------------------------------------------------------------------------\u001b[0m\n"
          ],
          "errorDetails": {
            "actions": [
              {
                "action": "open_url",
                "actionText": "Open Examples",
                "url": "/notebooks/snippets/importing_libraries.ipynb"
              }
            ]
          }
        }
      ]
    },
    {
      "cell_type": "markdown",
      "source": [
        "ANSWER 17)"
      ],
      "metadata": {
        "id": "oO2X7FAjm8xx"
      }
    },
    {
      "cell_type": "code",
      "source": [
        "def write_numbers_to_file(filename, numbers):\n",
        "    try:\n",
        "        with open(filename, 'w') as file:\n",
        "            for number in numbers:\n",
        "                file.write(f\"{number}\\n\")\n",
        "        print(f\"Numbers have been written to '{filename}' successfully.\")\n",
        "    except IOError as e:\n",
        "        print(f\"Error writing to file: {e}\")\n",
        "\n",
        "\n",
        "numbers_list = [1, 2, 3, 4, 5, 6, 7, 8, 9, 10]\n",
        "file_name = 'numbers.txt'\n",
        "\n",
        "write_numbers_to_file(file_name, numbers_list)"
      ],
      "metadata": {
        "colab": {
          "base_uri": "https://localhost:8080/"
        },
        "id": "5E3SNYBaoBTn",
        "outputId": "cb14a731-bf5c-4072-82bc-60a4d9467f28"
      },
      "execution_count": null,
      "outputs": [
        {
          "output_type": "stream",
          "name": "stdout",
          "text": [
            "Numbers have been written to 'numbers.txt' successfully.\n"
          ]
        }
      ]
    },
    {
      "cell_type": "markdown",
      "source": [
        "ANSWER 18)"
      ],
      "metadata": {
        "id": "yz4E9eC-oOXG"
      }
    },
    {
      "cell_type": "code",
      "source": [
        "import logging\n",
        "from logging.handlers import RotatingFileHandler\n",
        "\n",
        "\n",
        "log_filename = 'app.log'\n",
        "\n",
        "\n",
        "handler = RotatingFileHandler(log_filename, maxBytes=1 * 1024 * 1024, backupCount=3)\n",
        "handler.setLevel(logging.DEBUG)\n",
        "\n",
        "\n",
        "formatter = logging.Formatter('%(asctime)s - %(levelname)s - %(message)s')\n",
        "handler.setFormatter(formatter)\n",
        "\n",
        "\n",
        "logger = logging.getLogger()\n",
        "logger.setLevel(logging.DEBUG)\n",
        "logger.addHandler(handler)\n",
        "\n",
        "\n",
        "logger.debug(\"This is a debug message.\")\n",
        "logger.info(\"This is an info message.\")\n",
        "logger.warning(\"This is a warning message.\")\n",
        "logger.error(\"This is an error message.\")\n",
        "logger.critical(\"This is a critical message.\")"
      ],
      "metadata": {
        "colab": {
          "base_uri": "https://localhost:8080/"
        },
        "id": "9ouaaKQXoRIP",
        "outputId": "376b9953-1b6b-414f-be71-cdee09e102f8"
      },
      "execution_count": null,
      "outputs": [
        {
          "output_type": "stream",
          "name": "stderr",
          "text": [
            "DEBUG:root:This is a debug message.\n",
            "INFO:root:This is an info message.\n",
            "WARNING:root:This is a warning message.\n",
            "ERROR:root:This is an error message.\n",
            "CRITICAL:root:This is a critical message.\n"
          ]
        }
      ]
    },
    {
      "cell_type": "markdown",
      "source": [
        "ANSWER 19)"
      ],
      "metadata": {
        "id": "SCFjdy04ocCn"
      }
    },
    {
      "cell_type": "code",
      "source": [
        "def handle_errors():\n",
        "    my_list = [1, 2, 3]\n",
        "    my_dict = {\"name\": \"Alice\", \"age\": 30}\n",
        "\n",
        "    try:\n",
        "\n",
        "        print(my_list[5])\n",
        "\n",
        "\n",
        "        print(my_dict[\"address\"])\n",
        "\n",
        "    except IndexError:\n",
        "        print(\"Error: Index out of range in the list.\")\n",
        "    except KeyError:\n",
        "        print(\"Error: Key not found in the dictionary.\")\n",
        "\n",
        "\n",
        "handle_errors()"
      ],
      "metadata": {
        "colab": {
          "base_uri": "https://localhost:8080/"
        },
        "id": "5lWCtmQ8odbQ",
        "outputId": "1278e0e5-aca7-4ce5-c43f-0c75210d1280"
      },
      "execution_count": null,
      "outputs": [
        {
          "output_type": "stream",
          "name": "stdout",
          "text": [
            "Error: Index out of range in the list.\n"
          ]
        }
      ]
    },
    {
      "cell_type": "markdown",
      "source": [
        "ANSWER 20)"
      ],
      "metadata": {
        "id": "pshAGyT-omJ_"
      }
    },
    {
      "cell_type": "code",
      "source": [
        "def read_file_with_context_manager(filename):\n",
        "    try:\n",
        "        with open(filename, 'r') as file:\n",
        "            content = file.read()\n",
        "            print(\"File content:\")\n",
        "            print(content)\n",
        "    except FileNotFoundError:\n",
        "        print(f\"Error: The file '{filename}' was not found.\")\n",
        "    except IOError as e:\n",
        "        print(f\"Error: An I/O error occurred: {e}\")\n",
        "\n",
        "\n",
        "file_name = 'sample.txt'\n",
        "read_file_with_context_manager(file_name)"
      ],
      "metadata": {
        "colab": {
          "base_uri": "https://localhost:8080/"
        },
        "id": "Wnhv6ACaona-",
        "outputId": "e1e6731f-e2e3-4843-fcfc-f287b6a4c82a"
      },
      "execution_count": null,
      "outputs": [
        {
          "output_type": "stream",
          "name": "stdout",
          "text": [
            "File content:\n",
            "This is a new line of data.\n",
            "\n"
          ]
        }
      ]
    },
    {
      "cell_type": "markdown",
      "source": [
        "ANSWER 22)"
      ],
      "metadata": {
        "id": "vganrZMQoxEv"
      }
    },
    {
      "cell_type": "code",
      "source": [
        "import os\n",
        "\n",
        "def read_file_if_not_empty(filename):\n",
        "    if os.path.getsize(filename) == 0:\n",
        "        print(f\"The file '{filename}' is empty.\")\n",
        "    else:\n",
        "        with open(filename, 'r') as file:\n",
        "            content = file.read()\n",
        "            print(\"File content:\")\n",
        "            print(content)\n",
        "\n",
        "\n",
        "file_name = 'sample.txt'\n",
        "read_file_if_not_empty(file_name)"
      ],
      "metadata": {
        "colab": {
          "base_uri": "https://localhost:8080/"
        },
        "id": "GEuVDp6AoyMQ",
        "outputId": "4cb6791e-73bb-4196-b002-df4e1b832844"
      },
      "execution_count": null,
      "outputs": [
        {
          "output_type": "stream",
          "name": "stdout",
          "text": [
            "File content:\n",
            "This is a new line of data.\n",
            "\n"
          ]
        }
      ]
    },
    {
      "cell_type": "markdown",
      "source": [
        "ANSWER 21)"
      ],
      "metadata": {
        "id": "MTwMB7O-pZq_"
      }
    },
    {
      "cell_type": "code",
      "source": [
        "def count_word_occurrences(filename, target_word):\n",
        "    try:\n",
        "        with open(filename, 'r') as file:\n",
        "            content = file.read()  # Read the entire content of the file\n",
        "\n",
        "            # Count the occurrences of the target word\n",
        "            word_count = content.lower().split().count(target_word.lower())\n",
        "\n",
        "            print(f\"The word '{target_word}' occurred {word_count} times in the file.\")\n",
        "    except FileNotFoundError:\n",
        "        print(f\"Error: The file '{filename}' was not found.\")\n",
        "    except IOError as e:\n",
        "        print(f\"Error: An I/O error occurred: {e}\")\n",
        "\n",
        "# Example usage\n",
        "file_name = 'sample.txt'\n",
        "word_to_count = 'python'\n",
        "\n",
        "count_word_occurrences(file_name, word_to_count)"
      ],
      "metadata": {
        "colab": {
          "base_uri": "https://localhost:8080/"
        },
        "id": "wBKnz_aEpa-I",
        "outputId": "3b2d9890-8394-48cf-b83f-c4b5232597a3"
      },
      "execution_count": null,
      "outputs": [
        {
          "output_type": "stream",
          "name": "stdout",
          "text": [
            "The word 'python' occurred 0 times in the file.\n"
          ]
        }
      ]
    },
    {
      "cell_type": "markdown",
      "source": [
        "ANSWER 23)"
      ],
      "metadata": {
        "id": "CdIt2kQPpgxI"
      }
    },
    {
      "cell_type": "code",
      "source": [
        "import logging\n",
        "\n",
        "\n",
        "logging.basicConfig(\n",
        "    filename='file_handling_errors.log',\n",
        "    level=logging.ERROR,\n",
        "    format='%(asctime)s - %(levelname)s - %(message)s'\n",
        ")\n",
        "\n",
        "def write_to_file(filename, content):\n",
        "    try:\n",
        "        with open(filename, 'w') as file:\n",
        "            file.write(content)\n",
        "            print(f\"Content successfully written to {filename}\")\n",
        "    except Exception as e:\n",
        "\n",
        "        logging.error(f\"Error occurred while writing to {filename}: {e}\")\n",
        "\n",
        "def read_from_file(filename):\n",
        "    try:\n",
        "        with open(filename, 'r') as file:\n",
        "            content = file.read()\n",
        "            print(\"File content:\")\n",
        "            print(content)\n",
        "    except Exception as e:\n",
        "\n",
        "        logging.error(f\"Error occurred while reading from {filename}: {e}\")\n",
        "\n",
        "\n",
        "file_name = 'example.txt'\n",
        "content_to_write = \"This is an example of file handling with error logging.\"\n",
        "\n",
        "\n",
        "write_to_file(file_name, content_to_write)\n",
        "\n",
        "\n",
        "read_from_file(file_name)"
      ],
      "metadata": {
        "colab": {
          "base_uri": "https://localhost:8080/"
        },
        "id": "vOSW-ZHXpsP3",
        "outputId": "fb1d3db3-c769-4511-9082-e1cecaa3606d"
      },
      "execution_count": null,
      "outputs": [
        {
          "output_type": "stream",
          "name": "stdout",
          "text": [
            "Content successfully written to example.txt\n",
            "File content:\n",
            "This is an example of file handling with error logging.\n"
          ]
        }
      ]
    },
    {
      "cell_type": "markdown",
      "source": [
        "THEORY QUESTIONS"
      ],
      "metadata": {
        "id": "sZO0G28Ipzwh"
      }
    },
    {
      "cell_type": "markdown",
      "source": [
        "ANSWER 1)The key difference between interpreted and compiled programming languages lies in how they translate source code into machine-executable instructions. Compiled languages translate the entire program into machine code before execution, while interpreted languages translate the code line by line during execution."
      ],
      "metadata": {
        "id": "d4TFZjsPp1nX"
      }
    },
    {
      "cell_type": "markdown",
      "source": [
        "ANSWER 2)Exception handling in Python is a process of resolving errors that occur in a program. This involves catching exceptions, understanding what caused them, and then responding accordingly. Exceptions are errors that occur at runtime when the program is being executed."
      ],
      "metadata": {
        "id": "eSTUjErkp80n"
      }
    },
    {
      "cell_type": "markdown",
      "source": [
        "ANSWER 3)The purpose of the finally block in exception handling is to ensure that a specific piece of code, often cleanup tasks, is executed regardless of whether an exception occurs in the try block. It guarantees that code like releasing resources, closing files, or terminating connections will always run, even if an exception is thrown and handled, or if the try block completes without any exceptions."
      ],
      "metadata": {
        "id": "_OzKE-gBqCtg"
      }
    },
    {
      "cell_type": "markdown",
      "source": [
        "ANSWER 4)Logging in Python is a built-in module that provides a flexible framework for emitting log messages from Python programs. It allows developers to record information about the execution of their code, which can be useful for debugging, monitoring, and understanding the behavior of applications. Instead of using print statements, which can be difficult to manage in large applications, logging provides a structured and configurable way to record events.\n",
        "\n"
      ],
      "metadata": {
        "id": "-06NbWXiqIrW"
      }
    },
    {
      "cell_type": "markdown",
      "source": [
        "ANSWER 5)The __del__ method in Python, also known as a destructor, is a special method called when an object is about to be destroyed. It provides an opportunity to perform cleanup actions, such as releasing external resources or finalizing operations, before the object is deallocated from memory."
      ],
      "metadata": {
        "id": "bnc2G_fRqQcw"
      }
    },
    {
      "cell_type": "markdown",
      "source": [
        "ANSWER 6)In Python, both import and from ... import are used to access code from external modules, but they differ in how they make the code available:\n",
        "\n",
        "import module_name:\n",
        "This statement imports the entire module. To access functions or classes within the module, the module name must be used as a prefix (e.g., module_name.function_name()).\n",
        "from module_name import item_name:\n",
        "This statement imports specific items (functions, classes, variables) directly into the current namespace. They can be used without the module name prefix (e.g., function_name())."
      ],
      "metadata": {
        "id": "GtzjEfo3qWpn"
      }
    },
    {
      "cell_type": "markdown",
      "source": [
        "ANSWER 7)Using multiple except blocks: This involves writing a separate except block for each type of exception that needs to be handled differently.\n",
        "\n",
        "Grouping exceptions in a single except block: If multiple exceptions need to be handled in the same way, they can be grouped together in a single except block using a tuple."
      ],
      "metadata": {
        "id": "K2sOmClIqh0v"
      }
    },
    {
      "cell_type": "markdown",
      "source": [
        "ANSWER 8)The with statement in Python simplifies file handling by ensuring that files are properly opened and closed, even if errors occur. It provides a clean and readable way to manage resources, preventing resource leaks and promoting code clarity. When working with files, the with statement automatically takes care of opening the file at the beginning of the block and closing it at the end, regardless of whether exceptions are raised within the block. This eliminates the need for explicit try...finally blocks for file management, making the code more concise and less prone to error"
      ],
      "metadata": {
        "id": "vh2x50wLqt44"
      }
    },
    {
      "cell_type": "markdown",
      "source": [
        "ANSWER 9)Multithreading and multiprocessing are both methods for achieving parallelism, but they differ in how they manage resources and processes. Multithreading uses multiple threads within a single process, sharing the same memory space and resources, while multiprocessing creates multiple independent processes, each with its own memory space and resources."
      ],
      "metadata": {
        "id": "BTI9lWyaq12u"
      }
    },
    {
      "cell_type": "markdown",
      "source": [
        "ANSWER 10)Logging offers significant advantages in software development, including improved debugging, easier troubleshooting, enhanced system observability, and better communication between developers and administrators. It provides a record of events, helping identify issues, understand system behavior, and optimize performance."
      ],
      "metadata": {
        "id": "5e_v1Exeq7xp"
      }
    },
    {
      "cell_type": "markdown",
      "source": [
        "ANSWER 11)Memory management in Python is the process of allocating and freeing memory space for objects. It is handled automatically by the Python interpreter, freeing the programmer from manual memory management tasks, unlike languages like C or C++. Python employs a combination of techniques, primarily reference counting and garbage collection, to manage memory efficiently"
      ],
      "metadata": {
        "id": "AHrPXd-frDe3"
      }
    },
    {
      "cell_type": "code",
      "source": [],
      "metadata": {
        "id": "DFL3YYaYiGrC"
      },
      "execution_count": null,
      "outputs": []
    },
    {
      "cell_type": "markdown",
      "source": [
        "ANSWER 12)In Python, exceptions are caught and handled using the 'try' and 'except' block. 'try' contains the code segment which is susceptible to error, while 'except' is where the program should jump in case an exception occurs. You can use multiple 'except' blocks for handling different types of exceptions"
      ],
      "metadata": {
        "id": "uoSb97QyiJrD"
      }
    },
    {
      "cell_type": "markdown",
      "source": [
        "ANSWER 13)Memory management is important in Python because it directly impacts the efficiency, performance, and stability of programs. Python employs automatic memory management, relieving developers from manual allocation and deallocation. However, understanding its mechanisms is crucial for writing optimized code."
      ],
      "metadata": {
        "id": "2Od31rGjiOpj"
      }
    },
    {
      "cell_type": "markdown",
      "source": [
        "ANSWER 14)In exception handling, try and except blocks work together to gracefully handle errors or exceptions that may occur during code execution."
      ],
      "metadata": {
        "id": "HDCBvVRaiWH8"
      }
    },
    {
      "cell_type": "markdown",
      "source": [
        "ANSWER 15)Python uses a hybrid approach to garbage collection: reference counting and generational garbage collection."
      ],
      "metadata": {
        "id": "Zq0F_Dv4iiUi"
      }
    },
    {
      "cell_type": "markdown",
      "source": [
        "ANSWER 16)The else block in exception handling, often used in try...except...else structures, executes only when no exceptions are raised within the try block. It provides a way to execute code that's intended to run when the try block executes successfully, effectively separating normal execution from exception handling.\n"
      ],
      "metadata": {
        "id": "bAIi3LOaipdT"
      }
    },
    {
      "cell_type": "markdown",
      "source": [
        "ANSWER 17)Python's logging module provides a standard way to output messages from a program. These messages have different levels of severity, which helps in filtering and understanding the program's behavior."
      ],
      "metadata": {
        "id": "SZL5ELF7ixiz"
      }
    },
    {
      "cell_type": "markdown",
      "source": [
        "ANSWER 18) The os.fork() and multiprocessing module in Python serve different purposes and operate at different levels.\n",
        "os.fork()\n",
        "It is a low-level system call that creates a copy of the current process.\n",
        "It is available only on Unix-like systems.\n",
        "The child process is almost an exact duplicate of the parent, sharing the same memory space and resources.\n",
        "It returns 0 in the child process and the child's PID in the parent process.\n",
        "It requires careful handling to avoid issues like deadlocks, especially in multithreaded programs."
      ],
      "metadata": {
        "id": "OfOkqJysi58q"
      }
    },
    {
      "cell_type": "markdown",
      "source": [
        "ANSWER 19)When a file is opened, the operating system allocates resources to manage it. If the file is not closed properly, these resources remain allocated, potentially leading to resource leaks. Over time, this can cause performance issues or even crashes, especially if many files are left open."
      ],
      "metadata": {
        "id": "I2o-q4hBjGrT"
      }
    },
    {
      "cell_type": "markdown",
      "source": [
        "ANSWER 20)file.read():\n",
        "This method reads the entire content of the file and returns it as a single string. If a size argument is provided (e.g., file.read(10)), it reads up to that many bytes.\n",
        "file.readline():\n",
        "This method reads a single line from the file, including the newline character if present, and returns it as a string. Subsequent calls to readline() will read subsequent lines. If the end of the file is reached, it returns an empty string."
      ],
      "metadata": {
        "id": "w7HpqpnPjNBV"
      }
    },
    {
      "cell_type": "markdown",
      "source": [
        "ANSWER 21)Python logging is a module that allows you to track events that occur while your program is running. You can use logging to record information about errors, warnings, and other events that occur during program execution. And logging is a useful tool for debugging, troubleshooting, and monitoring your program"
      ],
      "metadata": {
        "id": "EoUv3-mwjUCj"
      }
    },
    {
      "cell_type": "markdown",
      "source": [
        "ANSWER 22)Python has a built-in os module with methods for interacting with the operating system, like creating files and directories, management of files and directories, input, output, environment variables, process management, etc."
      ],
      "metadata": {
        "id": "8oRxy4wxjZQr"
      }
    },
    {
      "cell_type": "markdown",
      "source": [
        "ANSWER 23)Memory management problems. The basic problem in managing memory is knowing when to keep the data it contains, and when to throw it away so that the memory can be reused. This sounds easy, but is, in fact, such a hard problem that it is an entire field of study in its own right."
      ],
      "metadata": {
        "id": "2fjO2LY-jef7"
      }
    },
    {
      "cell_type": "markdown",
      "source": [
        "ANSWER 24)As a Python developer you can choose to throw an exception if a condition occurs. To throw (or raise) an exception, use the raise keyword."
      ],
      "metadata": {
        "id": "j7sbPxF3jm6j"
      }
    },
    {
      "cell_type": "markdown",
      "source": [
        "AN SWER 25)Multithreading is important in applications that benefit from concurrent execution of tasks, improved responsiveness, and efficient resource utilization."
      ],
      "metadata": {
        "id": "bnnwKTdCjs5c"
      }
    },
    {
      "cell_type": "markdown",
      "source": [],
      "metadata": {
        "id": "brMlqA4xocjC"
      }
    }
  ]
}